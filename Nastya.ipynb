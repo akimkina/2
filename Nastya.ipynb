{
 "cells": [
  {
   "cell_type": "code",
   "execution_count": 1,
   "metadata": {},
   "outputs": [],
   "source": [
    "import numpy as np\n",
    "import pandas as pd\n",
    "pd.set_option('display.max_columns', 500)"
   ]
  },
  {
   "cell_type": "markdown",
   "metadata": {},
   "source": [
    "Загружаем данные по 8 волне"
   ]
  },
  {
   "cell_type": "code",
   "execution_count": 2,
   "metadata": {},
   "outputs": [],
   "source": [
    "data = pd.read_stata(\"BES2015_W8_v2.3.dta\")"
   ]
  },
  {
   "cell_type": "code",
   "execution_count": 56,
   "metadata": {},
   "outputs": [
    {
     "name": "stdout",
     "output_type": "stream",
     "text": [
      "В данном датасете строчек 33502 и переменных 30\n"
     ]
    }
   ],
   "source": [
    "print(\"В данном датасете строчек\", data.shape[0], \"и переменных\", data.shape[1])\n",
    "#data.columns.values\n",
    "#data_keeping = data.copy()"
   ]
  },
  {
   "cell_type": "markdown",
   "metadata": {},
   "source": [
    "Из 454 переменных берём только самые нужные."
   ]
  },
  {
   "cell_type": "code",
   "execution_count": 4,
   "metadata": {},
   "outputs": [
    {
     "data": {
      "text/html": [
       "<div>\n",
       "<style scoped>\n",
       "    .dataframe tbody tr th:only-of-type {\n",
       "        vertical-align: middle;\n",
       "    }\n",
       "\n",
       "    .dataframe tbody tr th {\n",
       "        vertical-align: top;\n",
       "    }\n",
       "\n",
       "    .dataframe thead th {\n",
       "        text-align: right;\n",
       "    }\n",
       "</style>\n",
       "<table border=\"1\" class=\"dataframe\">\n",
       "  <thead>\n",
       "    <tr style=\"text-align: right;\">\n",
       "      <th></th>\n",
       "      <th>generalElectionVote</th>\n",
       "      <th>euRefVote</th>\n",
       "      <th>partyId</th>\n",
       "      <th>partyIdSqueeze</th>\n",
       "      <th>britishness</th>\n",
       "      <th>scottishness</th>\n",
       "      <th>welshness</th>\n",
       "      <th>englishness</th>\n",
       "      <th>euMIISmall</th>\n",
       "      <th>EUMIICategory</th>\n",
       "      <th>immigContributeTake</th>\n",
       "      <th>immigEcon</th>\n",
       "      <th>immigCultural</th>\n",
       "      <th>changeCostLive</th>\n",
       "      <th>changeImmig</th>\n",
       "      <th>changeCrime</th>\n",
       "      <th>changeEconomy</th>\n",
       "      <th>changeNHS</th>\n",
       "      <th>changeEducation</th>\n",
       "      <th>campaigninfoLeave</th>\n",
       "      <th>campaigninfoRemain</th>\n",
       "      <th>euLeaveVoice</th>\n",
       "      <th>country</th>\n",
       "    </tr>\n",
       "  </thead>\n",
       "  <tbody>\n",
       "    <tr>\n",
       "      <th>0</th>\n",
       "      <td>United Kingdom Independence Party (UKIP)</td>\n",
       "      <td>Leave the EU</td>\n",
       "      <td>Labour</td>\n",
       "      <td>NaN</td>\n",
       "      <td>3</td>\n",
       "      <td>NaN</td>\n",
       "      <td>NaN</td>\n",
       "      <td>Very strongly English</td>\n",
       "      <td>Immigration</td>\n",
       "      <td>immigration</td>\n",
       "      <td>Pay more than they get</td>\n",
       "      <td>3</td>\n",
       "      <td>Undermines cultural life</td>\n",
       "      <td>Getting a little higher</td>\n",
       "      <td>Getting a lot higher</td>\n",
       "      <td>Getting a little higher</td>\n",
       "      <td>Getting a little worse</td>\n",
       "      <td>Getting a lot worse</td>\n",
       "      <td>Getting a little worse</td>\n",
       "      <td>Strongly agree</td>\n",
       "      <td>Strongly disagree</td>\n",
       "      <td>Higher</td>\n",
       "      <td>England</td>\n",
       "    </tr>\n",
       "    <tr>\n",
       "      <th>1</th>\n",
       "      <td>Conservative</td>\n",
       "      <td>Leave the EU</td>\n",
       "      <td>Conservative</td>\n",
       "      <td>NaN</td>\n",
       "      <td>5</td>\n",
       "      <td>NaN</td>\n",
       "      <td>NaN</td>\n",
       "      <td>6</td>\n",
       "      <td>Sovereignty/EU bureaucracy</td>\n",
       "      <td>sovereignty</td>\n",
       "      <td>Don't know</td>\n",
       "      <td>4</td>\n",
       "      <td>5</td>\n",
       "      <td>Getting a little higher</td>\n",
       "      <td>Getting a lot higher</td>\n",
       "      <td>Getting a lot higher</td>\n",
       "      <td>Getting a little better</td>\n",
       "      <td>Getting a little worse</td>\n",
       "      <td>Getting a little worse</td>\n",
       "      <td>Neither agree nor disagree</td>\n",
       "      <td>Strongly disagree</td>\n",
       "      <td>About the same</td>\n",
       "      <td>England</td>\n",
       "    </tr>\n",
       "    <tr>\n",
       "      <th>2</th>\n",
       "      <td>Other</td>\n",
       "      <td>Leave the EU</td>\n",
       "      <td>Scottish National Party (SNP)</td>\n",
       "      <td>NaN</td>\n",
       "      <td>4</td>\n",
       "      <td>Very strongly Scottish</td>\n",
       "      <td>NaN</td>\n",
       "      <td>Not at all English</td>\n",
       "      <td>NaN</td>\n",
       "      <td>NaN</td>\n",
       "      <td>5</td>\n",
       "      <td>6</td>\n",
       "      <td>2</td>\n",
       "      <td>Getting a little higher</td>\n",
       "      <td>Getting a lot higher</td>\n",
       "      <td>Getting a little higher</td>\n",
       "      <td>Getting a little worse</td>\n",
       "      <td>Staying about the same</td>\n",
       "      <td>Getting a little worse</td>\n",
       "      <td>Neither agree nor disagree</td>\n",
       "      <td>Neither agree nor disagree</td>\n",
       "      <td>About the same</td>\n",
       "      <td>Scotland</td>\n",
       "    </tr>\n",
       "    <tr>\n",
       "      <th>3</th>\n",
       "      <td>Labour</td>\n",
       "      <td>Stay/remain in the EU</td>\n",
       "      <td>No - none</td>\n",
       "      <td>Labour</td>\n",
       "      <td>Very strongly British</td>\n",
       "      <td>NaN</td>\n",
       "      <td>4</td>\n",
       "      <td>Not at all English</td>\n",
       "      <td>Foreign policy</td>\n",
       "      <td>peace</td>\n",
       "      <td>3</td>\n",
       "      <td>6</td>\n",
       "      <td>6</td>\n",
       "      <td>Getting a little higher</td>\n",
       "      <td>Getting a little higher</td>\n",
       "      <td>Staying about the same</td>\n",
       "      <td>Getting a little worse</td>\n",
       "      <td>Getting a little worse</td>\n",
       "      <td>Getting a little worse</td>\n",
       "      <td>Disagree</td>\n",
       "      <td>Strongly agree</td>\n",
       "      <td>Much lower</td>\n",
       "      <td>Wales</td>\n",
       "    </tr>\n",
       "  </tbody>\n",
       "</table>\n",
       "</div>"
      ],
      "text/plain": [
       "                        generalElectionVote              euRefVote  \\\n",
       "0  United Kingdom Independence Party (UKIP)           Leave the EU   \n",
       "1                              Conservative           Leave the EU   \n",
       "2                                     Other           Leave the EU   \n",
       "3                                    Labour  Stay/remain in the EU   \n",
       "\n",
       "                         partyId partyIdSqueeze            britishness  \\\n",
       "0                         Labour            NaN                      3   \n",
       "1                   Conservative            NaN                      5   \n",
       "2  Scottish National Party (SNP)            NaN                      4   \n",
       "3                      No - none         Labour  Very strongly British   \n",
       "\n",
       "             scottishness welshness            englishness  \\\n",
       "0                     NaN       NaN  Very strongly English   \n",
       "1                     NaN       NaN                      6   \n",
       "2  Very strongly Scottish       NaN     Not at all English   \n",
       "3                     NaN         4     Not at all English   \n",
       "\n",
       "                   euMIISmall EUMIICategory     immigContributeTake immigEcon  \\\n",
       "0                 Immigration   immigration  Pay more than they get         3   \n",
       "1  Sovereignty/EU bureaucracy   sovereignty              Don't know         4   \n",
       "2                         NaN           NaN                       5         6   \n",
       "3              Foreign policy         peace                       3         6   \n",
       "\n",
       "              immigCultural           changeCostLive              changeImmig  \\\n",
       "0  Undermines cultural life  Getting a little higher     Getting a lot higher   \n",
       "1                         5  Getting a little higher     Getting a lot higher   \n",
       "2                         2  Getting a little higher     Getting a lot higher   \n",
       "3                         6  Getting a little higher  Getting a little higher   \n",
       "\n",
       "               changeCrime            changeEconomy               changeNHS  \\\n",
       "0  Getting a little higher   Getting a little worse     Getting a lot worse   \n",
       "1     Getting a lot higher  Getting a little better  Getting a little worse   \n",
       "2  Getting a little higher   Getting a little worse  Staying about the same   \n",
       "3   Staying about the same   Getting a little worse  Getting a little worse   \n",
       "\n",
       "          changeEducation           campaigninfoLeave  \\\n",
       "0  Getting a little worse              Strongly agree   \n",
       "1  Getting a little worse  Neither agree nor disagree   \n",
       "2  Getting a little worse  Neither agree nor disagree   \n",
       "3  Getting a little worse                    Disagree   \n",
       "\n",
       "           campaigninfoRemain    euLeaveVoice   country  \n",
       "0           Strongly disagree          Higher   England  \n",
       "1           Strongly disagree  About the same   England  \n",
       "2  Neither agree nor disagree  About the same  Scotland  \n",
       "3              Strongly agree      Much lower     Wales  "
      ]
     },
     "execution_count": 4,
     "metadata": {},
     "output_type": "execute_result"
    }
   ],
   "source": [
    "variable = [\"generalElectionVote\", \"euRefVote\", \"partyId\",\"partyIdSqueeze\",\"britishness\",\n",
    "            \"scottishness\",\"welshness\",\"englishness\", \"euMIISmall\", \"EUMIICategory\",\n",
    "            \"immigContributeTake\", \"immigEcon\", \"immigCultural\", \"changeCostLive\",\n",
    "            \"changeImmig\",\"changeCrime\", \"changeEconomy\", \"changeNHS\", \"changeEducation\",\n",
    "            \"campaigninfoLeave\", \"campaigninfoRemain\", \"euLeaveVoice\", \"country\"] \n",
    "data = data[variable]\n",
    "data.head(4)"
   ]
  },
  {
   "cell_type": "markdown",
   "metadata": {},
   "source": [
    "Расписываем, что из этого чем является."
   ]
  },
  {
   "cell_type": "markdown",
   "metadata": {},
   "source": [
    "Перекодимуем часть категориальных переменных"
   ]
  },
  {
   "cell_type": "code",
   "execution_count": 5,
   "metadata": {},
   "outputs": [],
   "source": [
    "cleanup_nums = {\"englishness\":   {\"Not at all English\": 1, \"Very strongly English\": 7, \"Don't know\" : 0},\n",
    "                \"scottishness\": {\"Not at all Scottish\": 1,  \"Very strongly Scottish\": 7, \"Don't know\" : 0},\n",
    "                \"welshness\" : {\"Not at all Welsh\" : 1, \"Very strongly Welsh\" : 7, \"Don't know\" : 0},\n",
    "                \"britishness\" : {\"Not at all British\" : 1, \"Very strongly British\" : 7, \"Don't know\" : 0},\n",
    "                \"immigContributeTake\" : {\"Pay more than they get\" : 1, \"Get more than they pay\" : 7, \"Don't know\" : None},\n",
    "                \"immigEcon\" : {\"Bad for economy\" : 1, \"Good for economy\" : 7, \"Don't know\" : None},\n",
    "                \"immigCultural\" : {\"Undermines cultural life\" : 1, \"Enriches cultural life\" : 7, \"Don't know\" : None},\n",
    "                \"changeCostLive\" : {\"Getting a lot lower\" : 1,\"Getting a little lower\" : 2,\n",
    "                                    \"Staying about the same\" : 3, \"Staying about the same\" : 3,\n",
    "                                    \"Getting a little higher\" : 4, \"Getting a lot higher\" : 5, \"Don't know\" : None},\n",
    "                \"changeImmig\" : {\"Getting a lot lower\" : 1, \"Getting a little lower\" : 2,\n",
    "                                 \"Staying about the same\" : 3, \"Staying about the same\" : 3,\n",
    "                                 \"Getting a little higher\" : 4, \"Getting a lot higher\" : 5, \"Don't know\" : None},\n",
    "                \"changeCrime\" : {\"Getting a lot lower\" : 1, \"Getting a little lower\" : 2, \"Staying about the same\" : 3,\n",
    "                                 \"Staying about the same\" : 3, \"Getting a little higher\" : 4, \"Getting a lot higher\" : 5,\n",
    "                                 \"Don't know\" : None},\n",
    "                \"changeNHS\" : {\"Getting a lot worse\" : 1, \"Getting a little worse\" : 2, \"Staying about the same\" : 3,\n",
    "                               \"Getting a little better\" : 4, \"Getting a lot better\" : 5, \"Don't know\" : None},\n",
    "                \"changeEducation\" : {\"Getting a lot worse\" : 1, \"Getting a little worse\" : 2, \"Staying about the same\" : 3,\n",
    "                                     \"Getting a little better\" : 4, \"Getting a lot better\" : 5, \"Don't know\" : None},\n",
    "                \"changeEconomy\" : {\"Getting a lot worse\" : 1, \"Getting a little worse\" : 2, \"Staying about the same\" : 3,\n",
    "                                   \"Getting a little better\" : 4, \"Getting a lot better\" : 5, \"Don't know\" : None},\n",
    "                \"campaigninfoLeave\" : {\"Strongly disagree\" : 1, \"Disagree\" : 2, \"Neither agree nor disagree\" : 3,\n",
    "                                       \"Agree\" : 4, \"Strongly agree\" : 5, \"Don't know\" : None},\n",
    "                \"campaigninfoRemain\" : {\"Strongly disagree\" : 1, \"Disagree\" : 2, \"Neither agree nor disagree\" : 3,\n",
    "                                        \"Agree\" : 4, \"Strongly agree\" : 5, \"Don't know\" : None},\n",
    "                \"euRefVote\" : {\"Stay/remain in the EU\" : 0, \"Leave the EU\" : 1, \"I would/will not vote\" : None,\n",
    "                               \"Don't know\" : None}\n",
    "               }\n",
    "\n",
    "data.replace(cleanup_nums, inplace=True)"
   ]
  },
  {
   "cell_type": "code",
   "execution_count": 6,
   "metadata": {},
   "outputs": [
    {
     "data": {
      "text/html": [
       "<div>\n",
       "<style scoped>\n",
       "    .dataframe tbody tr th:only-of-type {\n",
       "        vertical-align: middle;\n",
       "    }\n",
       "\n",
       "    .dataframe tbody tr th {\n",
       "        vertical-align: top;\n",
       "    }\n",
       "\n",
       "    .dataframe thead th {\n",
       "        text-align: right;\n",
       "    }\n",
       "</style>\n",
       "<table border=\"1\" class=\"dataframe\">\n",
       "  <thead>\n",
       "    <tr style=\"text-align: right;\">\n",
       "      <th></th>\n",
       "      <th>generalElectionVote</th>\n",
       "      <th>euRefVote</th>\n",
       "      <th>partyId</th>\n",
       "      <th>partyIdSqueeze</th>\n",
       "      <th>britishness</th>\n",
       "      <th>scottishness</th>\n",
       "      <th>welshness</th>\n",
       "      <th>englishness</th>\n",
       "      <th>euMIISmall</th>\n",
       "      <th>EUMIICategory</th>\n",
       "      <th>immigContributeTake</th>\n",
       "      <th>immigEcon</th>\n",
       "      <th>immigCultural</th>\n",
       "      <th>changeCostLive</th>\n",
       "      <th>changeImmig</th>\n",
       "      <th>changeCrime</th>\n",
       "      <th>changeEconomy</th>\n",
       "      <th>changeNHS</th>\n",
       "      <th>changeEducation</th>\n",
       "      <th>campaigninfoLeave</th>\n",
       "      <th>campaigninfoRemain</th>\n",
       "      <th>euLeaveVoice</th>\n",
       "      <th>country</th>\n",
       "    </tr>\n",
       "  </thead>\n",
       "  <tbody>\n",
       "    <tr>\n",
       "      <th>0</th>\n",
       "      <td>United Kingdom Independence Party (UKIP)</td>\n",
       "      <td>1.0</td>\n",
       "      <td>Labour</td>\n",
       "      <td>NaN</td>\n",
       "      <td>3</td>\n",
       "      <td>NaN</td>\n",
       "      <td>NaN</td>\n",
       "      <td>7</td>\n",
       "      <td>Immigration</td>\n",
       "      <td>immigration</td>\n",
       "      <td>1.0</td>\n",
       "      <td>3</td>\n",
       "      <td>1</td>\n",
       "      <td>4.0</td>\n",
       "      <td>5.0</td>\n",
       "      <td>4.0</td>\n",
       "      <td>2.0</td>\n",
       "      <td>1.0</td>\n",
       "      <td>2.0</td>\n",
       "      <td>5.0</td>\n",
       "      <td>1.0</td>\n",
       "      <td>Higher</td>\n",
       "      <td>England</td>\n",
       "    </tr>\n",
       "    <tr>\n",
       "      <th>1</th>\n",
       "      <td>Conservative</td>\n",
       "      <td>1.0</td>\n",
       "      <td>Conservative</td>\n",
       "      <td>NaN</td>\n",
       "      <td>5</td>\n",
       "      <td>NaN</td>\n",
       "      <td>NaN</td>\n",
       "      <td>6</td>\n",
       "      <td>Sovereignty/EU bureaucracy</td>\n",
       "      <td>sovereignty</td>\n",
       "      <td>NaN</td>\n",
       "      <td>4</td>\n",
       "      <td>5</td>\n",
       "      <td>4.0</td>\n",
       "      <td>5.0</td>\n",
       "      <td>5.0</td>\n",
       "      <td>4.0</td>\n",
       "      <td>2.0</td>\n",
       "      <td>2.0</td>\n",
       "      <td>3.0</td>\n",
       "      <td>1.0</td>\n",
       "      <td>About the same</td>\n",
       "      <td>England</td>\n",
       "    </tr>\n",
       "    <tr>\n",
       "      <th>2</th>\n",
       "      <td>Other</td>\n",
       "      <td>1.0</td>\n",
       "      <td>Scottish National Party (SNP)</td>\n",
       "      <td>NaN</td>\n",
       "      <td>4</td>\n",
       "      <td>7</td>\n",
       "      <td>NaN</td>\n",
       "      <td>1</td>\n",
       "      <td>NaN</td>\n",
       "      <td>NaN</td>\n",
       "      <td>5.0</td>\n",
       "      <td>6</td>\n",
       "      <td>2</td>\n",
       "      <td>4.0</td>\n",
       "      <td>5.0</td>\n",
       "      <td>4.0</td>\n",
       "      <td>2.0</td>\n",
       "      <td>3.0</td>\n",
       "      <td>2.0</td>\n",
       "      <td>3.0</td>\n",
       "      <td>3.0</td>\n",
       "      <td>About the same</td>\n",
       "      <td>Scotland</td>\n",
       "    </tr>\n",
       "    <tr>\n",
       "      <th>3</th>\n",
       "      <td>Labour</td>\n",
       "      <td>0.0</td>\n",
       "      <td>No - none</td>\n",
       "      <td>Labour</td>\n",
       "      <td>7</td>\n",
       "      <td>NaN</td>\n",
       "      <td>4</td>\n",
       "      <td>1</td>\n",
       "      <td>Foreign policy</td>\n",
       "      <td>peace</td>\n",
       "      <td>3.0</td>\n",
       "      <td>6</td>\n",
       "      <td>6</td>\n",
       "      <td>4.0</td>\n",
       "      <td>4.0</td>\n",
       "      <td>3.0</td>\n",
       "      <td>2.0</td>\n",
       "      <td>2.0</td>\n",
       "      <td>2.0</td>\n",
       "      <td>2.0</td>\n",
       "      <td>5.0</td>\n",
       "      <td>Much lower</td>\n",
       "      <td>Wales</td>\n",
       "    </tr>\n",
       "    <tr>\n",
       "      <th>4</th>\n",
       "      <td>Conservative</td>\n",
       "      <td>1.0</td>\n",
       "      <td>Conservative</td>\n",
       "      <td>NaN</td>\n",
       "      <td>6</td>\n",
       "      <td>NaN</td>\n",
       "      <td>NaN</td>\n",
       "      <td>6</td>\n",
       "      <td>NaN</td>\n",
       "      <td>NaN</td>\n",
       "      <td>7.0</td>\n",
       "      <td>2</td>\n",
       "      <td>1</td>\n",
       "      <td>3.0</td>\n",
       "      <td>5.0</td>\n",
       "      <td>3.0</td>\n",
       "      <td>3.0</td>\n",
       "      <td>3.0</td>\n",
       "      <td>3.0</td>\n",
       "      <td>3.0</td>\n",
       "      <td>1.0</td>\n",
       "      <td>About the same</td>\n",
       "      <td>England</td>\n",
       "    </tr>\n",
       "    <tr>\n",
       "      <th>5</th>\n",
       "      <td>Conservative</td>\n",
       "      <td>1.0</td>\n",
       "      <td>Conservative</td>\n",
       "      <td>NaN</td>\n",
       "      <td>7</td>\n",
       "      <td>NaN</td>\n",
       "      <td>NaN</td>\n",
       "      <td>7</td>\n",
       "      <td>EU integration/stability</td>\n",
       "      <td>EU stability</td>\n",
       "      <td>4.0</td>\n",
       "      <td>5</td>\n",
       "      <td>3</td>\n",
       "      <td>3.0</td>\n",
       "      <td>5.0</td>\n",
       "      <td>3.0</td>\n",
       "      <td>3.0</td>\n",
       "      <td>2.0</td>\n",
       "      <td>2.0</td>\n",
       "      <td>4.0</td>\n",
       "      <td>1.0</td>\n",
       "      <td>Higher</td>\n",
       "      <td>England</td>\n",
       "    </tr>\n",
       "  </tbody>\n",
       "</table>\n",
       "</div>"
      ],
      "text/plain": [
       "                        generalElectionVote  euRefVote  \\\n",
       "0  United Kingdom Independence Party (UKIP)        1.0   \n",
       "1                              Conservative        1.0   \n",
       "2                                     Other        1.0   \n",
       "3                                    Labour        0.0   \n",
       "4                              Conservative        1.0   \n",
       "5                              Conservative        1.0   \n",
       "\n",
       "                         partyId partyIdSqueeze britishness scottishness  \\\n",
       "0                         Labour            NaN           3          NaN   \n",
       "1                   Conservative            NaN           5          NaN   \n",
       "2  Scottish National Party (SNP)            NaN           4            7   \n",
       "3                      No - none         Labour           7          NaN   \n",
       "4                   Conservative            NaN           6          NaN   \n",
       "5                   Conservative            NaN           7          NaN   \n",
       "\n",
       "  welshness englishness                  euMIISmall EUMIICategory  \\\n",
       "0       NaN           7                 Immigration   immigration   \n",
       "1       NaN           6  Sovereignty/EU bureaucracy   sovereignty   \n",
       "2       NaN           1                         NaN           NaN   \n",
       "3         4           1              Foreign policy         peace   \n",
       "4       NaN           6                         NaN           NaN   \n",
       "5       NaN           7    EU integration/stability  EU stability   \n",
       "\n",
       "   immigContributeTake immigEcon immigCultural  changeCostLive  changeImmig  \\\n",
       "0                  1.0         3             1             4.0          5.0   \n",
       "1                  NaN         4             5             4.0          5.0   \n",
       "2                  5.0         6             2             4.0          5.0   \n",
       "3                  3.0         6             6             4.0          4.0   \n",
       "4                  7.0         2             1             3.0          5.0   \n",
       "5                  4.0         5             3             3.0          5.0   \n",
       "\n",
       "   changeCrime  changeEconomy  changeNHS  changeEducation  campaigninfoLeave  \\\n",
       "0          4.0            2.0        1.0              2.0                5.0   \n",
       "1          5.0            4.0        2.0              2.0                3.0   \n",
       "2          4.0            2.0        3.0              2.0                3.0   \n",
       "3          3.0            2.0        2.0              2.0                2.0   \n",
       "4          3.0            3.0        3.0              3.0                3.0   \n",
       "5          3.0            3.0        2.0              2.0                4.0   \n",
       "\n",
       "   campaigninfoRemain    euLeaveVoice   country  \n",
       "0                 1.0          Higher   England  \n",
       "1                 1.0  About the same   England  \n",
       "2                 3.0  About the same  Scotland  \n",
       "3                 5.0      Much lower     Wales  \n",
       "4                 1.0  About the same   England  \n",
       "5                 1.0          Higher   England  "
      ]
     },
     "execution_count": 6,
     "metadata": {},
     "output_type": "execute_result"
    }
   ],
   "source": [
    "data.head(6)"
   ]
  },
  {
   "cell_type": "markdown",
   "metadata": {},
   "source": [
    "Узнаем тип переменных"
   ]
  },
  {
   "cell_type": "markdown",
   "metadata": {},
   "source": [
    "Задаём, что есть какой переменной: какая порядковая категориальная, а какая просто номинальная."
   ]
  },
  {
   "cell_type": "code",
   "execution_count": 7,
   "metadata": {},
   "outputs": [],
   "source": [
    "var_to_ordered = [\"britishness\", \"scottishness\", \"welshness\", \"englishness\", \"immigContributeTake\", \"immigEcon\",\n",
    "                  \"immigCultural\", \"changeCostLive\", \"changeCrime\", \"changeImmig\", \"changeEconomy\", \"changeNHS\", \"changeEducation\",\n",
    "                  \"campaigninfoLeave\", \"campaigninfoRemain\"]\n",
    "\n",
    "var_to_nominal = [\"generalElectionVote\", \"euRefVote\", \"partyId\", \"euMIISmall\", \"EUMIICategory\", \"country\"]\n",
    "\n",
    "for var in var_to_ordered:\n",
    "    data[var] = data[var].astype(pd.api.types.CategoricalDtype(ordered=True))\n",
    "\n",
    "for var in var_to_nominal:\n",
    "    data[var] = data[var].astype(pd.api.types.CategoricalDtype(ordered=False))"
   ]
  },
  {
   "cell_type": "markdown",
   "metadata": {},
   "source": [
    "Эту строчку можно запустить, чтобы проверить, что всё задалось нормально."
   ]
  },
  {
   "cell_type": "code",
   "execution_count": 8,
   "metadata": {},
   "outputs": [],
   "source": [
    "#for var in data.columns.values:\n",
    "#    print(var)\n",
    "#    print(data[var].unique())\n",
    "#    print()"
   ]
  },
  {
   "cell_type": "markdown",
   "metadata": {},
   "source": [
    "Теперь создадим независимые переменные.<br>\n",
    "Каждая такая переменная - не просто переменная с датасета, а сочетание других переменных под определенным условием."
   ]
  },
  {
   "cell_type": "markdown",
   "metadata": {},
   "source": [
    "Для начала создадим переменные, которые общие до деления датасета."
   ]
  },
  {
   "cell_type": "markdown",
   "metadata": {},
   "source": [
    "## Создаём переменные"
   ]
  },
  {
   "cell_type": "code",
   "execution_count": 9,
   "metadata": {},
   "outputs": [],
   "source": [
    "data[\"iv_PS\"] = np.nan\n",
    "\n",
    "for row in range(len(data)):\n",
    "    if (data.loc[row, \"euMIISmall\"] == \"Sovereignty/EU bureaucracy\" or data.loc[row, \"EUMIICategory\"] in [\"sovereignty\",\"british influence in the world\", \"british greatness\"]) and data.loc[row, \"euLeaveVoice\"] in [\"Higher\", \"Much higher\"]:\n",
    "        data.loc[row, \"iv_PS\"] = 1\n",
    "    elif data.loc[row, \"euMIISmall\"] == np.nan and data.loc[row, \"EUMIICategory\"] == np.nan and data.loc[row, \"euLeaveVoice\"] == np.nan:\n",
    "        data.loc[row, \"iv_PS\"] = np.nan\n",
    "    else:\n",
    "        data.loc[row, \"iv_PS\"] = 0"
   ]
  },
  {
   "cell_type": "code",
   "execution_count": 10,
   "metadata": {},
   "outputs": [],
   "source": [
    "data[\"control_immigration\"] = np.nan\n",
    "for row in range(len(data)):\n",
    "    if (data.loc[row, \"changeImmig\"] in [4,5] and data.loc[row, \"immigContributeTake\"] in [1,2,3]) or (data.loc[row, \"changeImmig\"] in [4,5] and data.loc[row, \"immigEcon\"] in [1,2,3]) or (data.loc[row, \"changeImmig\"] in [4,5] and data.loc[row, \"immigCultural\"] in [1,2,3]) or data.loc[row, \"euMIISmall\"] == \"Immigration\":\n",
    "        data.loc[row, \"control_immigration\"] = 1\n",
    "    else:\n",
    "        data.loc[row, \"control_immigration\"] = 0"
   ]
  },
  {
   "cell_type": "code",
   "execution_count": 11,
   "metadata": {},
   "outputs": [],
   "source": [
    "data[\"control_economy\"] = np.nan\n",
    "\n",
    "for row in range(len(data)):\n",
    "    if data.loc[row, \"euMIISmall\"] in [\"Economy\", \"EU spending/regulations/cost\"] or data.loc[row, \"EUMIICategory\"] in [\"economic stability\", \"economy general\", \"economy personal\", \"EU spending-neg\"] or data.loc[row, \"changeEconomy\"] in [1,2]:\n",
    "        data.loc[row, \"control_economy\"] = 1\n",
    "    else:\n",
    "        data.loc[row, \"control_economy\"] = 0"
   ]
  },
  {
   "cell_type": "code",
   "execution_count": 12,
   "metadata": {},
   "outputs": [],
   "source": [
    "data[\"control_USA\"] = np.nan\n",
    "\n",
    "for row in range(len(data)):\n",
    "    if data.loc[row, \"euMIISmall\"] == \"Foreign policy\" or data.loc[row, \"EUMIICategory\"] == \"international cooperation\":\n",
    "        data.loc[row, \"control_USA\"] = 1\n",
    "    else:\n",
    "        data.loc[row, \"control_USA\"] = 0"
   ]
  },
  {
   "cell_type": "code",
   "execution_count": 13,
   "metadata": {},
   "outputs": [],
   "source": [
    "data[\"control_politicalEU\"] = np.nan\n",
    "\n",
    "for row in range(len(data)):\n",
    "    if data.loc[row, \"EUMIICategory\"] in [\"bureaucracy\", \"democratic deficit\", \"eu accountability\"] or data.loc[row, \"euMIISmall\"] == \"Sovereignty/EU bureaucracy\":\n",
    "        data.loc[row, \"control_politicalEU\"] = 1\n",
    "    else:\n",
    "        data.loc[row, \"control_politicalEU\"] = 0"
   ]
  },
  {
   "cell_type": "code",
   "execution_count": 14,
   "metadata": {},
   "outputs": [],
   "source": [
    "data[\"control_campaign_leave\"] = np.nan\n",
    "\n",
    "for row in range(len(data)):\n",
    "    if data.loc[row, \"campaigninfoLeave\"] in [4,5]:\n",
    "        data.loc[row, \"control_campaign_leave\"] = 1\n",
    "    elif data.loc[row, \"euMIISmall\"] == \"Campaign/outcome fairness\":\n",
    "        data.loc[row, \"control_campaign_leave\"] = 1\n",
    "    else:\n",
    "        data.loc[row, \"control_campaign_leave\"] = 0"
   ]
  },
  {
   "cell_type": "code",
   "execution_count": 15,
   "metadata": {},
   "outputs": [],
   "source": [
    "data[\"control_campaign_remain\"] = np.nan\n",
    "\n",
    "for row in range(len(data)):\n",
    "    if data.loc[row, \"campaigninfoRemain\"] in [1,2]:\n",
    "        data.loc[row, \"control_campaign_remain\"] = 1\n",
    "    elif data.loc[row, \"euMIISmall\"] == \"Campaign/outcome fairness\":\n",
    "        data.loc[row, \"control_campaign_remain\"] = 1\n",
    "    else:\n",
    "        data.loc[row, \"control_campaign_remain\"] = 0"
   ]
  },
  {
   "cell_type": "markdown",
   "metadata": {},
   "source": [
    "Напомним вновь нашему пайтону, что все созданные переменные - категориальные непорядковые."
   ]
  },
  {
   "cell_type": "code",
   "execution_count": 16,
   "metadata": {},
   "outputs": [],
   "source": [
    "data[\"iv_PS\"] = data[\"iv_PS\"].astype(pd.api.types.CategoricalDtype(ordered=False))\n",
    "data[\"control_immigration\"] = data[\"control_immigration\"].astype(pd.api.types.CategoricalDtype(ordered=False))\n",
    "data[\"control_economy\"] = data[\"control_economy\"].astype(pd.api.types.CategoricalDtype(ordered=False))\n",
    "data[\"control_campaign_leave\"] = data[\"control_campaign_leave\"].astype(pd.api.types.CategoricalDtype(ordered=False))\n",
    "data[\"control_campaign_remain\"] = data[\"control_campaign_remain\"].astype(pd.api.types.CategoricalDtype(ordered=False))\n",
    "data[\"control_USA\"] = data[\"control_USA\"].astype(pd.api.types.CategoricalDtype(ordered=False))\n",
    "data[\"control_politicalEU\"] = data[\"control_politicalEU\"].astype(pd.api.types.CategoricalDtype(ordered=False))"
   ]
  },
  {
   "cell_type": "markdown",
   "metadata": {},
   "source": [
    "Проверим, что не создалось дисбалансовых переменных: например, когда значение 0 сильно доминирует над 1 (ситуация, когда жетские рамки ставятся)."
   ]
  },
  {
   "cell_type": "code",
   "execution_count": 17,
   "metadata": {},
   "outputs": [
    {
     "name": "stdout",
     "output_type": "stream",
     "text": [
      "0.0    32347\n",
      "1.0     1155\n",
      "Name: iv_PS, dtype: int64\n",
      "0.0    20619\n",
      "1.0    12883\n",
      "Name: control_immigration, dtype: int64\n",
      "0.0    18331\n",
      "1.0    15171\n",
      "Name: control_economy, dtype: int64\n",
      "0.0    22772\n",
      "1.0    10730\n",
      "Name: control_campaign_leave, dtype: int64\n",
      "0.0    19020\n",
      "1.0    14482\n",
      "Name: control_campaign_remain, dtype: int64\n",
      "0.0    32724\n",
      "1.0      778\n",
      "Name: control_USA, dtype: int64\n",
      "0.0    30369\n",
      "1.0     3133\n",
      "Name: control_politicalEU, dtype: int64\n"
     ]
    }
   ],
   "source": [
    "print(data[\"iv_PS\"].value_counts())\n",
    "print(data[\"control_immigration\"].value_counts())\n",
    "print(data[\"control_economy\"].value_counts())\n",
    "print(data[\"control_campaign_leave\"].value_counts())\n",
    "print(data[\"control_campaign_remain\"].value_counts())\n",
    "print(data[\"control_USA\"].value_counts())\n",
    "print(data[\"control_politicalEU\"].value_counts())"
   ]
  },
  {
   "cell_type": "markdown",
   "metadata": {},
   "source": [
    "Здесь пришла очередь делить датасет в зависимости от страны."
   ]
  },
  {
   "cell_type": "code",
   "execution_count": 48,
   "metadata": {},
   "outputs": [
    {
     "name": "stdout",
     "output_type": "stream",
     "text": [
      "24961 наблюдений про Англию\n",
      "8541 наблюдений про всех остальных\n"
     ]
    }
   ],
   "source": [
    "england_data = data[data[\"country\"] == \"England\"].reset_index()\n",
    "\n",
    "others_data = data[data[\"country\"] != \"England\"].reset_index()\n",
    "\n",
    "print(england_data.shape[0], \"наблюдений про Англию\")\n",
    "print(others_data.shape[0], \"наблюдений про всех остальных\")"
   ]
  },
  {
   "cell_type": "markdown",
   "metadata": {},
   "source": [
    "### Англичане. Создаём переменные"
   ]
  },
  {
   "cell_type": "code",
   "execution_count": 49,
   "metadata": {},
   "outputs": [],
   "source": [
    "england_data[\"iv_ident_crisis\"] = np.nan\n",
    "for row in range(len(england_data)):\n",
    "    if england_data.loc[row, \"britishness\"] == 0 or england_data.loc[row, \"englishness\"] == 0 or (england_data.loc[row, \"britishness\"] in [1,2,3,4] and england_data.loc[row, \"englishness\"] in [1,2,3,4]) or (england_data.loc[row, \"britishness\"] in [5,6,7] and england_data.loc[row, \"englishness\"] in [1,2,3]):\n",
    "        england_data.loc[row, \"iv_ident_crisis\"] = 1\n",
    "    else:\n",
    "        england_data.loc[row, \"iv_ident_crisis\"] = 0"
   ]
  },
  {
   "cell_type": "code",
   "execution_count": 50,
   "metadata": {},
   "outputs": [],
   "source": [
    "england_data[\"iv_nationalism\"] = np.nan\n",
    "for row in range(len(england_data)):\n",
    "    if (england_data.loc[row, \"britishness\"] in [5,6,7] and england_data.loc[row, \"englishness\"] in [5,6,7]) or england_data.loc[row,\"partyId\"] == \"United Kingdom Independence Party (UKIP)\" or england_data.loc[row,\"partyIdSqueeze\"] == \"United Kingdom Independence Party (UKIP)\":\n",
    "        england_data.loc[row, \"iv_nationalism\"] = 1\n",
    "    else:\n",
    "        england_data.loc[row, \"iv_nationalism\"] = 0"
   ]
  },
  {
   "cell_type": "markdown",
   "metadata": {},
   "source": [
    "### Остальные не англичане. Создаём переменные."
   ]
  },
  {
   "cell_type": "code",
   "execution_count": 21,
   "metadata": {},
   "outputs": [],
   "source": [
    "others_data[\"iv_ident_crisis\"] = np.nan\n",
    "for row in range(len(others_data)):\n",
    "    if others_data.loc[row, \"britishness\"] == 0 or others_data.loc[row, \"scottishness\"] == 0 or others_data.loc[row, \"welshness\"] == 0 or (others_data.loc[row, \"britishness\"] in [1,2,3,4] and others_data.loc[row, \"scottishness\"] in [1,2,3,4]) or (others_data.loc[row, \"britishness\"] in [1,2,3,4] and others_data.loc[row, \"welshness\"] in [1,2,3,4]) or (others_data.loc[row, \"britishness\"] in [5,6,7] and others_data.loc[row, \"scottishness\"] in [1,2,3]) or (others_data.loc[row, \"britishness\"] in [5,6,7] and others_data.loc[row, \"welshness\"] in [1,2,3]):\n",
    "        others_data.loc[row, \"iv_ident_crisis\"] = 1\n",
    "    else:\n",
    "        others_data.loc[row, \"iv_ident_crisis\"] = 0"
   ]
  },
  {
   "cell_type": "code",
   "execution_count": 22,
   "metadata": {},
   "outputs": [],
   "source": [
    "others_data[\"iv_nationalism\"] = np.nan\n",
    "for row in range(len(others_data)):\n",
    "    if (others_data.loc[row, \"britishness\"] in [0,1,2,3,4] and (others_data.loc[row, \"scottishness\"] in [5,6,7] or others_data.loc[row, \"welshness\"] in [5,6,7])) or others_data.loc[row,\"partyId\"] in [\"Scottish National Party (SNP)\", \"Plaid Cymru\"] or others_data.loc[row,\"partyIdSqueeze\"] in [\"Scottish National Party (SNP)\", \"Plaid Cymru\"]:\n",
    "        others_data.loc[row, \"iv_nationalism\"] = 1\n",
    "    else:\n",
    "        others_data.loc[row, \"iv_nationalism\"] = 0"
   ]
  },
  {
   "cell_type": "markdown",
   "metadata": {},
   "source": [
    "Сохраняем полученные датасеты"
   ]
  },
  {
   "cell_type": "code",
   "execution_count": 34,
   "metadata": {},
   "outputs": [],
   "source": [
    "#data.to_csv(\"dataAll.csv\")\n",
    "#data.to_excel(\"dataAll.xlsx\")\n",
    "\n",
    "#england_data.to_csv(\"englandData.csv\")\n",
    "#england_data.to_excel(\"englandData.xlsx\")\n",
    "\n",
    "#others_data.to_csv(\"othersData.csv\")\n",
    "#others_data.to_excel(\"othersData.xlsx\")"
   ]
  },
  {
   "cell_type": "markdown",
   "metadata": {},
   "source": [
    "# Logistic regression"
   ]
  },
  {
   "cell_type": "code",
   "execution_count": null,
   "metadata": {},
   "outputs": [],
   "source": [
    "#чтобы не прогружать весь код заново, а сохранять в среду результат пройденного раннее\n",
    "import numpy as np\n",
    "import pandas as pd\n",
    "pd.set_option('display.max_columns', 500)\n",
    "\n",
    "england_data = pd.read_csv(\"englandData.csv\")\n",
    "others_data = pd.read_csv(\"othersData.csv\")"
   ]
  },
  {
   "cell_type": "markdown",
   "metadata": {},
   "source": [
    "Пора строить логистическую регрессию.<br>\n",
    "Почему логистическую, а не обычную/МНК/линейную регрессию?<br>\n",
    "Потому что зависимая переменная у нас бинарная (либо 1, либо 0), а значит мы решаем вопрос не регрессии, а классификации."
   ]
  },
  {
   "cell_type": "markdown",
   "metadata": {},
   "source": [
    "### Логистическая регрессия по англичанам"
   ]
  },
  {
   "cell_type": "code",
   "execution_count": 45,
   "metadata": {},
   "outputs": [],
   "source": [
    "england_data = england_data.dropna(subset=[\"euRefVote\"])\n",
    "\n",
    "\n",
    "england_data[\"euRefVote\"] = england_data[\"euRefVote\"].astype(pd.api.types.CategoricalDtype(ordered=False))\n",
    "dep_var = england_data[\"euRefVote\"]\n",
    "ind_vars = england_data[[\"iv_PS\", \"iv_ident_crisis\", \"iv_nationalism\", \"control_immigration\", \"control_economy\", \"control_campaign_leave\",\n",
    "               \"control_campaign_remain\", \"control_USA\", \"control_politicalEU\"]]"
   ]
  },
  {
   "cell_type": "code",
   "execution_count": 46,
   "metadata": {},
   "outputs": [
    {
     "name": "stdout",
     "output_type": "stream",
     "text": [
      "Optimization terminated successfully.\n",
      "         Current function value: 0.521608\n",
      "         Iterations 9\n",
      "                             Results: Logit\n",
      "========================================================================\n",
      "Model:                 Logit              Pseudo R-squared:   0.245     \n",
      "Dependent Variable:    euRefVote          AIC:                24118.3674\n",
      "Date:                  2018-09-18 16:45   BIC:                24190.7964\n",
      "No. Observations:      23102              Log-Likelihood:     -12050.   \n",
      "Df Model:              8                  LL-Null:            -15953.   \n",
      "Df Residuals:          23093              LLR p-value:        0.0000    \n",
      "Converged:             1.0000             Scale:              1.0000    \n",
      "No. Iterations:        9.0000                                           \n",
      "------------------------------------------------------------------------\n",
      "                         Coef.  Std.Err.    z     P>|z|   [0.025  0.975]\n",
      "------------------------------------------------------------------------\n",
      "iv_PS                    2.2211   0.3476   6.3889 0.0000  1.5397  2.9025\n",
      "iv_ident_crisis         -0.2714   0.0695  -3.9029 0.0001 -0.4077 -0.1351\n",
      "iv_nationalism           0.4991   0.0323  15.4379 0.0000  0.4358  0.5625\n",
      "control_immigration      0.5933   0.0323  18.3713 0.0000  0.5300  0.6566\n",
      "control_economy         -1.1773   0.0285 -41.3661 0.0000 -1.2331 -1.1215\n",
      "control_campaign_leave   1.2921   0.0375  34.4548 0.0000  1.2186  1.3656\n",
      "control_campaign_remain  0.3518   0.0312  11.2639 0.0000  0.2906  0.4130\n",
      "control_USA             -2.3418   0.1390 -16.8462 0.0000 -2.6143 -2.0693\n",
      "control_politicalEU      1.9510   0.0969  20.1425 0.0000  1.7612  2.1409\n",
      "========================================================================\n",
      "\n"
     ]
    }
   ],
   "source": [
    "import statsmodels.api as sm\n",
    "logit_model=sm.Logit(dep_var, ind_vars.astype(float))\n",
    "result=logit_model.fit()\n",
    "print(result.summary2())"
   ]
  },
  {
   "cell_type": "markdown",
   "metadata": {},
   "source": [
    "### Не англичане"
   ]
  },
  {
   "cell_type": "code",
   "execution_count": 26,
   "metadata": {},
   "outputs": [],
   "source": [
    "others_data = others_data.dropna(subset=[\"euRefVote\"])\n",
    "\n",
    "\n",
    "others_data[\"euRefVote\"] = others_data[\"euRefVote\"].astype(pd.api.types.CategoricalDtype(ordered=False))\n",
    "dep_var_others = others_data[\"euRefVote\"]\n",
    "ind_vars_others = others_data[[\"iv_PS\", \"iv_ident_crisis\", \"iv_nationalism\", \"control_immigration\", \"control_economy\", \"control_campaign_leave\",\n",
    "               \"control_campaign_remain\", \"control_USA\", \"control_politicalEU\"]]"
   ]
  },
  {
   "cell_type": "code",
   "execution_count": 27,
   "metadata": {},
   "outputs": [
    {
     "name": "stdout",
     "output_type": "stream",
     "text": [
      "Optimization terminated successfully.\n",
      "         Current function value: 0.559776\n",
      "         Iterations 10\n",
      "                             Results: Logit\n",
      "========================================================================\n",
      "Model:                  Logit              Pseudo R-squared:   0.181    \n",
      "Dependent Variable:     euRefVote          AIC:                8869.1709\n",
      "Date:                   2018-09-18 16:36   BIC:                8931.9493\n",
      "No. Observations:       7906               Log-Likelihood:     -4425.6  \n",
      "Df Model:               8                  LL-Null:            -5405.2  \n",
      "Df Residuals:           7897               LLR p-value:        0.0000   \n",
      "Converged:              1.0000             Scale:              1.0000   \n",
      "No. Iterations:         10.0000                                         \n",
      "------------------------------------------------------------------------\n",
      "                         Coef.  Std.Err.    z     P>|z|   [0.025  0.975]\n",
      "------------------------------------------------------------------------\n",
      "iv_PS                    3.3159   1.0153   3.2661 0.0011  1.3260  5.3058\n",
      "iv_ident_crisis         -0.1881   0.1058  -1.7768 0.0756 -0.3955  0.0194\n",
      "iv_nationalism          -0.7209   0.0623 -11.5749 0.0000 -0.8430 -0.5989\n",
      "control_immigration      0.6881   0.0529  13.0118 0.0000  0.5844  0.7917\n",
      "control_economy         -1.0650   0.0467 -22.8194 0.0000 -1.1565 -0.9736\n",
      "control_campaign_leave   1.1496   0.0602  19.0973 0.0000  1.0316  1.2675\n",
      "control_campaign_remain  0.2921   0.0510   5.7323 0.0000  0.1922  0.3919\n",
      "control_USA             -2.8966   0.3168  -9.1418 0.0000 -3.5176 -2.2756\n",
      "control_politicalEU      1.9730   0.1557  12.6689 0.0000  1.6677  2.2782\n",
      "========================================================================\n",
      "\n"
     ]
    }
   ],
   "source": [
    "logit_model=sm.Logit(dep_var_others, ind_vars_others.astype(float))\n",
    "result_others=logit_model.fit()\n",
    "print(result_others.summary2())"
   ]
  },
  {
   "cell_type": "markdown",
   "metadata": {},
   "source": [
    "# Грязь"
   ]
  },
  {
   "cell_type": "code",
   "execution_count": null,
   "metadata": {},
   "outputs": [],
   "source": [
    "rf_predicted = result.predict(ind_vars)"
   ]
  },
  {
   "cell_type": "code",
   "execution_count": null,
   "metadata": {},
   "outputs": [],
   "source": [
    "from sklearn.metrics import precision_score, recall_score, accuracy_score, confusion_matrix\n",
    "\n",
    "print(\"Правильность модели \", accuracy_score(dep_var, rf_predicted))\n",
    "print(\"Точность модели \", precision_score(dep_var, rf_predicted))\n",
    "print(\"Полнота модели \", recall_score(dep_var, rf_predicted))\n",
    "print(confusion_matrix(dep_var, rf_predicted))"
   ]
  },
  {
   "cell_type": "code",
   "execution_count": null,
   "metadata": {},
   "outputs": [],
   "source": [
    "#feature selection\n",
    "from sklearn.feature_selection import RFE\n",
    "from sklearn.linear_model import LogisticRegression \n",
    "\n",
    "logreg = LogisticRegression()\n",
    "\n",
    "rfe = RFE(logreg, 4)\n",
    "rfe = rfe.fit(ind_vars, dep_var)\n",
    "\n",
    "#print(rfe.support_)\n",
    "#print(rfe.ranking_)\n",
    "#print(*ind_vars)\n",
    "rfe_results = list(map(list, zip(rfe.ranking_, ind_vars)))\n",
    "for row in sorted(rfe_results):\n",
    "    print(\"Переменная \", row[1], \"имеет важность\", row[0])"
   ]
  },
  {
   "cell_type": "code",
   "execution_count": null,
   "metadata": {},
   "outputs": [],
   "source": [
    "from sklearn.linear_model import SGDClassifier\n",
    "\n",
    "rf_model = SGDClassifier(random_state=42)\n",
    "rf_model.fit(ind_vars, dep_var)\n",
    "\n",
    "rf_predicted = rf_model.predict(ind_vars)"
   ]
  },
  {
   "cell_type": "code",
   "execution_count": null,
   "metadata": {},
   "outputs": [],
   "source": [
    "from sklearn.model_selection import cross_val_predict\n",
    "\n",
    "y_scores = cross_val_predict(rf_model, ind_vars, dep_var, cv = 3, method=\"decision_function\")\n",
    "\n",
    "\n",
    "from sklearn.metrics import precision_recall_curve\n",
    "\n",
    "precisions, recalls, thresholds = precision_recall_curve(y_true=dep_var, probas_pred=y_scores)\n",
    "\n",
    "import matplotlib.pyplot as plt\n",
    "\n",
    "def plot_precisions_recalls_vs_thresholds(precisions, recalls, thresholds): \n",
    "    width = 10\n",
    "    height = 10\n",
    "    plt.figure(figsize=(width, height)) \n",
    "    plt.plot(thresholds, precisions[:-1], \"b--\", label = \"Точность\")\n",
    "    plt.plot(thresholds, recalls[:-1], \"g-\", label = \"Полнота\")\n",
    "    plt.xlabel(\"Порог\")\n",
    "    plt.legend(loc = \"center left\")\n",
    "    plt.ylim([-0.05,1.05])\n",
    "    \n",
    "plot_precisions_recalls_vs_thresholds(precisions, recalls, thresholds);"
   ]
  },
  {
   "cell_type": "code",
   "execution_count": null,
   "metadata": {},
   "outputs": [],
   "source": [
    "y_threshold_pred = (y_scores > -0.4)\n",
    "\n",
    "print(\"Правильность модели \", accuracy_score(dep_var, y_threshold_pred))\n",
    "print(\"Точность модели \", precision_score(dep_var, y_threshold_pred))\n",
    "print(\"Полнота модели \", recall_score(dep_var, y_threshold_pred))\n",
    "print(confusion_matrix(dep_var, y_threshold_pred))"
   ]
  },
  {
   "cell_type": "code",
   "execution_count": null,
   "metadata": {},
   "outputs": [],
   "source": []
  }
 ],
 "metadata": {
  "kernelspec": {
   "display_name": "Python 3",
   "language": "python",
   "name": "python3"
  },
  "language_info": {
   "codemirror_mode": {
    "name": "ipython",
    "version": 3
   },
   "file_extension": ".py",
   "mimetype": "text/x-python",
   "name": "python",
   "nbconvert_exporter": "python",
   "pygments_lexer": "ipython3",
   "version": "3.6.0"
  }
 },
 "nbformat": 4,
 "nbformat_minor": 2
}
